{
 "cells": [
  {
   "cell_type": "code",
   "execution_count": 1,
   "id": "2e2f872b",
   "metadata": {},
   "outputs": [],
   "source": [
    "string='Saveetha Engineering College'"
   ]
  },
  {
   "cell_type": "code",
   "execution_count": 2,
   "id": "2c0c741d",
   "metadata": {},
   "outputs": [],
   "source": [
    "class NodeTree(object):\n",
    "    def __init__(self,left=None,right=None):\n",
    "        self.left=left\n",
    "        self.right=right\n",
    "        \n",
    "    def children(self):\n",
    "        return(self.left,self.right)\n",
    "    \n",
    "    def nodes(self):\n",
    "        return(self.left,self.right)\n",
    "    \n",
    "    def __str__(self):\n",
    "        return '%s_%s' %(self.left,self.right)"
   ]
  },
  {
   "cell_type": "code",
   "execution_count": 3,
   "id": "0d711915",
   "metadata": {},
   "outputs": [],
   "source": [
    "def huffman_code_tree(node,left=True,binString=''):\n",
    "    if type(node) is str:\n",
    "        return {node:binString}\n",
    "    (l,r)=node.children()\n",
    "    d=dict()\n",
    "    d.update(huffman_code_tree(l,True,binString+'0'))\n",
    "    d.update(huffman_code_tree(r,False,binString+'1'))\n",
    "    return d"
   ]
  },
  {
   "cell_type": "code",
   "execution_count": 4,
   "id": "f54d74ef",
   "metadata": {},
   "outputs": [],
   "source": [
    "freq={}\n",
    "for c in string:\n",
    "    if c in freq:\n",
    "        freq[c]=+1\n",
    "    else:\n",
    "        freq[c]=1\n",
    "freq=sorted(freq.items(),key=lambda x:x[1],reverse=True)\n",
    "nodes=freq\n",
    "while len(nodes)>1:\n",
    "    (key1,c1)=nodes[-1]\n",
    "    (key2,c2)=nodes[-2]\n",
    "    nodes=nodes[:-2]\n",
    "    node=NodeTree(key1,key2)\n",
    "    nodes.append((node,c1+c2))\n",
    "    nodes=sorted(nodes,key=lambda x:x[1],reverse=True)"
   ]
  },
  {
   "cell_type": "code",
   "execution_count": 5,
   "id": "8fc9b963",
   "metadata": {},
   "outputs": [
    {
     "name": "stdout",
     "output_type": "stream",
     "text": [
      " Char | Huffman code \n",
      "----------------------\n",
      " 'S'  |         000\n",
      " 'a'  |        0011\n",
      " 'v'  |        0010\n",
      " 'e'  |        1101\n",
      " 't'  |        1100\n",
      " 'h'  |        1111\n",
      " ' '  |        1110\n",
      " 'E'  |        1001\n",
      " 'n'  |        1000\n",
      " 'g'  |        1011\n",
      " 'i'  |        1010\n",
      " 'r'  |        0101\n",
      " 'C'  |        0100\n",
      " 'o'  |        0111\n",
      " 'l'  |        0110\n"
     ]
    }
   ],
   "source": [
    "huffmanCode=huffman_code_tree(nodes[0][0])\n",
    "print(' Char | Huffman code ')\n",
    "print('----------------------')\n",
    "for(char,frequency) in freq:\n",
    "    print(' %-4r |%12s' % (char,huffmanCode[char]))"
   ]
  },
  {
   "cell_type": "code",
   "execution_count": null,
   "id": "08017bde",
   "metadata": {},
   "outputs": [],
   "source": []
  }
 ],
 "metadata": {
  "kernelspec": {
   "display_name": "Python 3 (ipykernel)",
   "language": "python",
   "name": "python3"
  },
  "language_info": {
   "codemirror_mode": {
    "name": "ipython",
    "version": 3
   },
   "file_extension": ".py",
   "mimetype": "text/x-python",
   "name": "python",
   "nbconvert_exporter": "python",
   "pygments_lexer": "ipython3",
   "version": "3.9.6"
  }
 },
 "nbformat": 4,
 "nbformat_minor": 5
}
