{
 "cells": [
  {
   "cell_type": "code",
   "execution_count": 1,
   "id": "adc70b6d",
   "metadata": {},
   "outputs": [],
   "source": [
    "import cv2\n",
    "image = cv2.VideoCapture(0)\n",
    "while(True):\n",
    "    ret,frame = image.read()\n",
    "    cv2.imwrite(\"NewPicture.jpg\",frame)\n",
    "    result = False\n",
    "image.release()"
   ]
  },
  {
   "cell_type": "code",
   "execution_count": 2,
   "id": "4e024b42",
   "metadata": {},
   "outputs": [],
   "source": [
    "cap=cv2.VideoCapture(0)\n",
    "while True:\n",
    "    ret,frame=cap.read()\n",
    "    cv2.imshow('frame', frame)\n",
    "    if cv2.waitKey(1) == ord('q'):\n",
    "        break\n",
    "cap.release()\n",
    "cv2.destroyAllWindows()"
   ]
  },
  {
   "cell_type": "code",
   "execution_count": 3,
   "id": "37b65263",
   "metadata": {},
   "outputs": [],
   "source": [
    "import numpy as np\n",
    "cap=cv2.VideoCapture(0)\n",
    "while True:\n",
    "    ret,frame=cap.read()\n",
    "    width=frame.shape[1]\n",
    "    height=frame.shape[0]\n",
    "    image=np.zeros(frame.shape,np.uint8)\n",
    "    smaller_frame=cv2.resize(frame,(0,0),fx=0.5,fy=0.5)\n",
    "    image[:height//2, :width//2] =smaller_frame\n",
    "    image[:height//2,width//2:]=smaller_frame\n",
    "    image[height//2:,width//2:]=smaller_frame\n",
    "    image[height//2:,:width//2]=smaller_frame\n",
    "    cv2.imshow('resize', image)\n",
    "    if cv2.waitKey(1) == ord('q'):\n",
    "        break\n",
    "cap.release()\n",
    "cv2.destroyAllWindows()"
   ]
  },
  {
   "cell_type": "code",
   "execution_count": 4,
   "id": "4a924c08",
   "metadata": {},
   "outputs": [],
   "source": [
    "cap=cv2.VideoCapture(0)\n",
    "while True:\n",
    "    ret,frame=cap.read()\n",
    "    width=frame.shape[1]\n",
    "    height=frame.shape[0]\n",
    "    image=np.zeros(frame.shape,np.uint8)\n",
    "    smaller_frame=cv2.resize(frame,(0,0),fx=0.5,fy=0.5)\n",
    "    image[:height//2, :width//2] =cv2.rotate(smaller_frame,cv2.cv2.ROTATE_180)\n",
    "    image[:height//2,width//2:]=cv2.rotate(smaller_frame,cv2.cv2.ROTATE_180)\n",
    "    image[height//2:,width//2:]=smaller_frame\n",
    "    image[height//2:,:width//2]=smaller_frame\n",
    "    cv2.imshow('rotate', image)\n",
    "    if cv2.waitKey(1) == ord('q'):\n",
    "        break\n",
    "cap.release()\n",
    "cv2.destroyAllWindows()"
   ]
  },
  {
   "cell_type": "code",
   "execution_count": null,
   "id": "dd4af8aa",
   "metadata": {},
   "outputs": [],
   "source": []
  }
 ],
 "metadata": {
  "kernelspec": {
   "display_name": "Python 3 (ipykernel)",
   "language": "python",
   "name": "python3"
  },
  "language_info": {
   "codemirror_mode": {
    "name": "ipython",
    "version": 3
   },
   "file_extension": ".py",
   "mimetype": "text/x-python",
   "name": "python",
   "nbconvert_exporter": "python",
   "pygments_lexer": "ipython3",
   "version": "3.9.7"
  }
 },
 "nbformat": 4,
 "nbformat_minor": 5
}
