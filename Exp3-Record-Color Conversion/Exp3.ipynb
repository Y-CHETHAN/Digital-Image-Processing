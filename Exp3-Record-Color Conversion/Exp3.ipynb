{
 "cells": [
  {
   "cell_type": "code",
   "execution_count": 1,
   "id": "564d514e",
   "metadata": {},
   "outputs": [],
   "source": [
    "import cv2\n",
    "image=cv2.imread(\"rgb.jpg\")\n",
    "BGR_HSV=cv2.cvtColor(image,cv2.COLOR_BGR2HSV)\n",
    "cv2.imshow(\"BGR to HSV image\",BGR_HSV)\n",
    "BGR_GRAY=cv2.cvtColor(image,cv2.COLOR_BGR2GRAY)\n",
    "cv2.imshow(\"BGR to GRAY image\",BGR_GRAY)\n",
    "cv2.imshow(\"212220230008\",image)\n",
    "cv2.waitKey(0)\n",
    "cv2.destroyAllWindows()"
   ]
  },
  {
   "cell_type": "code",
   "execution_count": 2,
   "id": "23f126e5",
   "metadata": {},
   "outputs": [],
   "source": [
    "RGB_HSV=cv2.cvtColor(image,cv2.COLOR_RGB2HSV)\n",
    "cv2.imshow(\"RGB to HSV image\",RGB_HSV)\n",
    "RGB_GRAY=cv2.cvtColor(image,cv2.COLOR_RGB2GRAY)\n",
    "cv2.imshow(\"RGB to GRAY image\",RGB_GRAY)\n",
    "cv2.imshow(\"212220230008\",image)\n",
    "cv2.waitKey(0)\n",
    "cv2.destroyAllWindows()"
   ]
  },
  {
   "cell_type": "code",
   "execution_count": 3,
   "id": "c3e75620",
   "metadata": {},
   "outputs": [],
   "source": [
    "hsv=cv2.cvtColor(image,cv2.COLOR_BGR2HSV)\n",
    "cv2.imshow(\"HSV image\",hsv)\n",
    "HSV_RGB=cv2.cvtColor(image,cv2.COLOR_HSV2RGB)\n",
    "cv2.imshow(\"HSV to RGB image\",HSV_RGB)\n",
    "HSV_BGR=cv2.cvtColor(image,cv2.COLOR_HSV2BGR)\n",
    "cv2.imshow(\"HSV to BGR image\",HSV_BGR)\n",
    "cv2.waitKey(0)\n",
    "cv2.destroyAllWindows()"
   ]
  },
  {
   "cell_type": "code",
   "execution_count": 4,
   "id": "adf1c3b7",
   "metadata": {},
   "outputs": [],
   "source": [
    "RGB_YCrCb=cv2.cvtColor(image,cv2.COLOR_RGB2YCrCb)\n",
    "cv2.imshow(\"RGB to YCrCb image\",RGB_YCrCb)\n",
    "BGR_YCrCb=cv2.cvtColor(image,cv2.COLOR_BGR2YCrCb)\n",
    "cv2.imshow(\"BGR to YCrCb image\",BGR_YCrCb)\n",
    "cv2.imshow(\"212220230008\",image)\n",
    "cv2.waitKey(0)\n",
    "cv2.destroyAllWindows()"
   ]
  },
  {
   "cell_type": "code",
   "execution_count": 5,
   "id": "b1b20e9a",
   "metadata": {},
   "outputs": [],
   "source": [
    "blue = image[:,:,0]\n",
    "cv2.imshow(\"Blue Split\",blue)\n",
    "green = image[:,:,1]\n",
    "cv2.imshow(\"Green Split\",green)\n",
    "red = image[:,:,2]\n",
    "cv2.imshow(\"Red Split\",red)\n",
    "merged=cv2.merge((blue,green,red))\n",
    "cv2.imshow(\"Merged Image\",merged)\n",
    "cv2.imshow(\"212220230008\",image)\n",
    "cv2.waitKey(0)\n",
    "cv2.destroyAllWindows()"
   ]
  },
  {
   "cell_type": "code",
   "execution_count": 6,
   "id": "97e59fa3",
   "metadata": {},
   "outputs": [],
   "source": [
    "hsv=cv2.cvtColor(image,cv2.COLOR_BGR2HSV)\n",
    "h, s, v = cv2.split(hsv)\n",
    "cv2.imshow('h_plane', h)\n",
    "cv2.imshow('s_plane', s)\n",
    "cv2.imshow('v_plane', v)\n",
    "mergedhsv=cv2.merge((h,s,v))\n",
    "cv2.imshow(\"HSV image\",hsv)\n",
    "cv2.imshow('Merged HSV',mergedhsv)\n",
    "cv2.waitKey(0)\n",
    "cv2.destroyAllWindows()"
   ]
  },
  {
   "cell_type": "code",
   "execution_count": null,
   "id": "2fd68e7d",
   "metadata": {},
   "outputs": [],
   "source": []
  }
 ],
 "metadata": {
  "kernelspec": {
   "display_name": "Python 3 (ipykernel)",
   "language": "python",
   "name": "python3"
  },
  "language_info": {
   "codemirror_mode": {
    "name": "ipython",
    "version": 3
   },
   "file_extension": ".py",
   "mimetype": "text/x-python",
   "name": "python",
   "nbconvert_exporter": "python",
   "pygments_lexer": "ipython3",
   "version": "3.9.7"
  }
 },
 "nbformat": 4,
 "nbformat_minor": 5
}
